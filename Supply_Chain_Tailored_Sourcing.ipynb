{
  "nbformat": 4,
  "nbformat_minor": 0,
  "metadata": {
    "colab": {
      "provenance": [],
      "include_colab_link": true
    },
    "kernelspec": {
      "name": "python3",
      "display_name": "Python 3"
    },
    "language_info": {
      "name": "python"
    }
  },
  "cells": [
    {
      "cell_type": "markdown",
      "metadata": {
        "id": "view-in-github",
        "colab_type": "text"
      },
      "source": [
        "<a href=\"https://colab.research.google.com/github/Zimo0528/Supply-Chain/blob/main/Supply_Chain_Tailored_Sourcing.ipynb\" target=\"_parent\"><img src=\"https://colab.research.google.com/assets/colab-badge.svg\" alt=\"Open In Colab\"/></a>"
      ]
    },
    {
      "cell_type": "code",
      "execution_count": 1,
      "metadata": {
        "colab": {
          "base_uri": "https://localhost:8080/"
        },
        "id": "9NO-YiXHJRMN",
        "outputId": "70b85d4d-c952-43af-bb0f-4be120377305"
      },
      "outputs": [
        {
          "output_type": "stream",
          "name": "stdout",
          "text": [
            "EOQ for product with demand 1000: 148.32, Total Cost: 1483.24\n",
            "EOQ for product with demand 300: 77.46, Total Cost: 929.52\n",
            "EOQ for product with demand 100: 64.55, Total Cost: 387.30\n",
            "EOQ for product with demand 50: 45.64, Total Cost: 273.86\n",
            "Total annual operational cost for independent sourcing: 3073.92\n"
          ]
        }
      ],
      "source": [
        "import numpy as np\n",
        "\n",
        "# Given data for the four products\n",
        "products = {\n",
        "    1: {'demand': 1000, 'common_order_cost': 100, 'specific_order_cost': 10, 'unit_cost': 50, 'holding_cost_rate': 0.2},\n",
        "    2: {'demand': 300, 'common_order_cost': 100, 'specific_order_cost': 20, 'unit_cost': 60, 'holding_cost_rate': 0.2},\n",
        "    3: {'demand': 100, 'common_order_cost': 100, 'specific_order_cost': 25, 'unit_cost': 30, 'holding_cost_rate': 0.2},\n",
        "    4: {'demand': 50, 'common_order_cost': 100, 'specific_order_cost': 25, 'unit_cost': 30, 'holding_cost_rate': 0.2}\n",
        "}\n",
        "\n",
        "# Function to calculate EOQ and total cost for independent sourcing\n",
        "def calculate_costs(product_info):\n",
        "    D = product_info['demand']\n",
        "    S = product_info['common_order_cost'] + product_info['specific_order_cost']\n",
        "    H = product_info['holding_cost_rate'] * product_info['unit_cost']\n",
        "    EOQ = np.sqrt((2 * D * S) / H)\n",
        "    total_cost = (D / EOQ) * S + (EOQ / 2) * H\n",
        "    return EOQ, total_cost\n",
        "\n",
        "# Calculate and print the costs for independent sourcing\n",
        "total_annual_cost = 0\n",
        "for product in products.values():\n",
        "    EOQ, cost = calculate_costs(product)\n",
        "    total_annual_cost += cost\n",
        "    print(f\"EOQ for product with demand {product['demand']}: {EOQ:.2f}, Total Cost: {cost:.2f}\")\n",
        "\n",
        "print(f\"Total annual operational cost for independent sourcing: {total_annual_cost:.2f}\")\n"
      ]
    },
    {
      "cell_type": "code",
      "source": [
        "# Sum of specific order costs\n",
        "total_specific_order_cost = sum(product['specific_order_cost'] for product in products.values())\n",
        "\n",
        "# Common order cost (incurred once because of combined sourcing)\n",
        "common_order_cost = products[1]['common_order_cost']  # Assuming all products share this cost\n",
        "\n",
        "# Calculate combined EOQ\n",
        "S = common_order_cost + total_specific_order_cost  # Total ordering cost\n",
        "n = np.sqrt(sum(product['demand'] * product['holding_cost_rate'] * product['unit_cost'] for product in products.values())/ (2 * S))\n",
        "\n",
        "def calculate_costs(product_info):\n",
        "    D = product_info['demand']\n",
        "    H = product_info['holding_cost_rate'] * product_info['unit_cost']\n",
        "    holding_cost = (D / n / 2) * H\n",
        "    return holding_cost\n",
        "\n",
        "total_holding_cost = 0\n",
        "for product in products.values():\n",
        "    cost = calculate_costs(product)\n",
        "    total_holding_cost += cost\n",
        "    print(f\"Total holding cost: {cost:.2f}\")\n",
        "total_annual_cost = S * n + total_holding_cost\n",
        "\n",
        "print(f\"Total Cost: {total_annual_cost:.2f}\")"
      ],
      "metadata": {
        "colab": {
          "base_uri": "https://localhost:8080/"
        },
        "id": "OBQ8LglLMIEe",
        "outputId": "00cf9ce9-fff4-4fe6-ff1b-b4d8bfb41665"
      },
      "execution_count": 6,
      "outputs": [
        {
          "output_type": "stream",
          "name": "stdout",
          "text": [
            "Total holding cost: 787.84\n",
            "Total holding cost: 283.62\n",
            "Total holding cost: 47.27\n",
            "Total holding cost: 23.64\n",
            "Total Cost: 2284.73\n"
          ]
        }
      ]
    },
    {
      "cell_type": "code",
      "source": [
        "import math\n",
        "def calculate_freq(product_info):\n",
        "    D = product_info['demand']\n",
        "    S = product_info['common_order_cost'] + product_info['specific_order_cost']\n",
        "    H = product_info['holding_cost_rate'] * product_info['unit_cost']\n",
        "    EOQ = np.sqrt((2 * D * S) / H)\n",
        "    frequency = D / EOQ\n",
        "    return frequency\n",
        "\n",
        "def calculate_new_freq(product_info):\n",
        "    D = product_info['demand']\n",
        "    S = product_info['specific_order_cost']\n",
        "    H = product_info['holding_cost_rate'] * product_info['unit_cost']\n",
        "    Q = np.sqrt((2 * D * S) / H)\n",
        "    frequency = D / Q\n",
        "    return frequency\n",
        "\n",
        "def calculate_costs(product_info):\n",
        "    D = product_info['demand']\n",
        "    H = product_info['holding_cost_rate'] * product_info['unit_cost']\n",
        "    n = product_info['new_freq']\n",
        "    holding_cost = (D / n / 2) * H\n",
        "    return holding_cost\n",
        "\n",
        "# Calculate and print the costs for independent sourcing\n",
        "frequency = []\n",
        "for i in range(4):\n",
        "    freq = calculate_freq(products[i+1])\n",
        "    products[i+1]['freq'] = freq\n",
        "    frequency.append(freq)\n",
        "largest_freq = max(frequency)\n",
        "index = frequency.index(largest_freq)\n",
        "\n",
        "for i in range(4):\n",
        "  if i == index:\n",
        "    products[i+1]['m'] = 1\n",
        "  else:\n",
        "    new_freq = calculate_new_freq(products[i+1])\n",
        "    products[i+1]['m'] = math.ceil(largest_freq / new_freq)\n",
        "\n",
        "new_large = np.sqrt(sum(product['demand'] * product['holding_cost_rate'] * product['unit_cost'] * product['m'] for product in products.values())/ (2 * (products[1]['common_order_cost'] + sum(product['specific_order_cost'] / product['m'] for product in products.values()))))\n",
        "\n",
        "for i in range(4):\n",
        "  if i == index:\n",
        "    products[i+1]['new_freq'] = new_large\n",
        "  else:\n",
        "    new_freq = calculate_new_freq(products[i+1])\n",
        "    products[i+1]['new_freq'] = new_large / products[i+1]['m']\n",
        "\n",
        "S = products[1]['common_order_cost'] + sum(product['specific_order_cost'] / product['m'] for product in products.values())\n",
        "\n",
        "total_holding_cost = 0\n",
        "for product in products.values():\n",
        "    cost = calculate_costs(product)\n",
        "    total_holding_cost += cost\n",
        "    print(f\"Total Cost: {cost:.2f}\")\n",
        "total_annual_cost = S * new_large + total_holding_cost\n",
        "print(f\"Total Cost: {total_annual_cost:.2f}\")"
      ],
      "metadata": {
        "colab": {
          "base_uri": "https://localhost:8080/"
        },
        "id": "DxdBEaFYZqu1",
        "outputId": "31c7caa2-5065-4963-8161-609f7e9da36a"
      },
      "execution_count": 7,
      "outputs": [
        {
          "output_type": "stream",
          "name": "stdout",
          "text": [
            "Total Cost: 693.08\n",
            "Total Cost: 249.51\n",
            "Total Cost: 83.17\n",
            "Total Cost: 62.38\n",
            "Total Cost: 2176.27\n"
          ]
        }
      ]
    }
  ]
}